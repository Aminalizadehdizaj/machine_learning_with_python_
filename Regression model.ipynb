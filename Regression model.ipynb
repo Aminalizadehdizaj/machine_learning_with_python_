{
 "cells": [
  {
   "cell_type": "markdown",
   "id": "58d035b3-aed7-44df-8d57-af77e3ddd2e7",
   "metadata": {},
   "source": [
    "# Data Preparation and Regression Analysis: Handling Missing Values and Creating DataFrames for Linear and Multiple Regression\r\n"
   ]
  },
  {
   "cell_type": "markdown",
   "id": "0e962512-b6af-4be9-81a4-9d6616cb5952",
   "metadata": {},
   "source": [
    "## Introduction\r",
    "\r",
    "\r\n",
    "This analysis focuses on handling missing data and preparing the dataset for both linear and multiple regression analysis. The dataset contains various features, including an \"Address\" column with missing values. For effective modeling:\r\n",
    "\r\n",
    "1. **Linear Regression**: We aim to preserve all available data in other features, ensuring no valid data is overlooked.\r\n",
    "2. **Multiple Regression**: Missing values in the \"Address\" column are removed to create a refined dataset for comprehensive analysis.\r\n",
    "\r\n",
    "Two dataframes are created:  \r\n",
    "- **`df`**: For linear regression, retaining all rows with valid data in specific features.  \r\n",
    "- **`df2`**: For multiple regression, focusing only on complete rows without missing \"Address\" values.  \r\n",
    "\r\n",
    "This approach ensures the most accurate and efficient use of data for each regression type.\r\n",
    " \r\n"
   ]
  },
  {
   "cell_type": "code",
   "execution_count": 413,
   "id": "d6a43e4a-26c9-4fbb-8188-164c643d3451",
   "metadata": {},
   "outputs": [],
   "source": [
    "import pandas as pd\n",
    "import matplotlib.pyplot as plt\n",
    "%matplotlib inline\n",
    "df = pd.read_csv(\"housePrice.csv\")"
   ]
  },
  {
   "cell_type": "code",
   "execution_count": 414,
   "id": "2eaebf3f-2128-45a4-85a2-80d6b1e74551",
   "metadata": {},
   "outputs": [
    {
     "name": "stdout",
     "output_type": "stream",
     "text": [
      "Area           object\n",
      "Room            int64\n",
      "Parking          bool\n",
      "Warehouse        bool\n",
      "Elevator         bool\n",
      "Address        object\n",
      "Price         float64\n",
      "Price(USD)    float64\n",
      "dtype: object\n"
     ]
    }
   ],
   "source": [
    "print(df.dtypes)\n"
   ]
  },
  {
   "cell_type": "code",
   "execution_count": 415,
   "id": "f1f5d2a4-952d-4862-aab6-2950c47513d0",
   "metadata": {},
   "outputs": [],
   "source": [
    "df['Parking'] = df['Parking'].astype(int)\n",
    "df['Warehouse'] = df['Warehouse'].astype(int)\n",
    "df['Elevator'] = df['Elevator'].astype(int)"
   ]
  },
  {
   "cell_type": "code",
   "execution_count": 416,
   "id": "d757d804-dec6-448d-bd88-7aca51b1cd24",
   "metadata": {
    "scrolled": true
   },
   "outputs": [],
   "source": [
    "# Remove commas from the 'Area' column\n",
    "df['Area'] = df['Area'].str.replace(',', '')\n",
    "\n",
    "# Convert 'Area' column to int64\n",
    "df['Area'] = df['Area'].astype('int64')"
   ]
  },
  {
   "cell_type": "code",
   "execution_count": 417,
   "id": "03699471-8e18-42d7-a537-444a17df8920",
   "metadata": {},
   "outputs": [
    {
     "name": "stdout",
     "output_type": "stream",
     "text": [
      "Columns with NaN values: ['Address']\n"
     ]
    }
   ],
   "source": [
    "# Check if any column contains NaN values\n",
    "nan_columns = df.columns[df.isna().any()].tolist()\n",
    "\n",
    "# Print columns with NaN values\n",
    "if nan_columns:\n",
    "    print(\"Columns with NaN values:\", nan_columns)\n",
    "else:\n",
    "    print(\"No columns contain NaN values\")"
   ]
  },
  {
   "cell_type": "code",
   "execution_count": 418,
   "id": "98747e8f-7653-439f-85b8-70a20d80758a",
   "metadata": {},
   "outputs": [
    {
     "name": "stdout",
     "output_type": "stream",
     "text": [
      "Count of values in 'Area' column: 3479\n",
      "Values in 'Area' column greater than 2000:\n",
      "570      3310000000\n",
      "709     16160000000\n",
      "1604     8400000000\n",
      "2171           3600\n",
      "2802     2550000000\n",
      "Name: Area, dtype: int64\n"
     ]
    }
   ],
   "source": [
    "# Display count of values in 'Area' column\n",
    "print(\"Count of values in 'Area' column:\", df['Area'].count())\n",
    "\n",
    "# Show values that are greater than 2000\n",
    "print(\"Values in 'Area' column greater than 2000:\")\n",
    "print(df[df['Area'] >= 2000]['Area'])"
   ]
  },
  {
   "cell_type": "code",
   "execution_count": 419,
   "id": "df6c6be8-d4f7-425f-879a-9f38d80511f6",
   "metadata": {},
   "outputs": [
    {
     "name": "stdout",
     "output_type": "stream",
     "text": [
      "Area            int64\n",
      "Room            int64\n",
      "Parking         int32\n",
      "Warehouse       int32\n",
      "Elevator        int32\n",
      "Address        object\n",
      "Price         float64\n",
      "Price(USD)    float64\n",
      "dtype: object\n"
     ]
    }
   ],
   "source": [
    "print(df.dtypes)\n"
   ]
  },
  {
   "cell_type": "markdown",
   "id": "c51b392d-4a1c-420b-92c2-44132601a4de",
   "metadata": {},
   "source": [
    "### Handling Missing Values\n",
    "\n",
    "To ensure the dataset is suitable for regression analysis:\n",
    "\n",
    "1. **Removed NaN values from the `Address` column**:\n",
    "   - Created a new DataFrame `df2` for multiple regression analysis, containing only rows with complete data across all features.\n",
    "\n",
    "2. **Why Two DataFrames (`df` and `df2`) Are Used**:\n",
    "   - **`df`**: Retains the original data, including rows with missing `Address` values, for use in simple linear regression. This ensures no data is overlooked when analyzing features like `Area`.\n",
    "   - **`df2`**: A cleaned version of the dataset (without missing values) used specifically for multiple regression, where all features must have complete data.\n",
    "\n",
    "This approach balances preserving as much information as possible for simple regression while maintaining data integrity for multiple regression analysis."
   ]
  },
  {
   "cell_type": "code",
   "execution_count": 421,
   "id": "6de6688c-283f-4e32-8a41-e767aea8a7d8",
   "metadata": {},
   "outputs": [],
   "source": [
    "from sklearn.preprocessing import LabelEncoder\n",
    "df2 = df.copy()\n",
    "\n",
    "# Initialize LabelEncoder\n",
    "label_encoder = LabelEncoder()\n",
    "\n",
    "# Fit and transform 'Address' column in df2\n",
    "df2.dropna(subset=['Address'], inplace=True)\n",
    "df2['Address'] = label_encoder.fit_transform(df2['Address'])\n"
   ]
  },
  {
   "cell_type": "code",
   "execution_count": 422,
   "id": "7a3e00f1-0876-476a-8340-fd3ad6d823ff",
   "metadata": {},
   "outputs": [
    {
     "data": {
      "text/plain": [
       "3479"
      ]
     },
     "execution_count": 422,
     "metadata": {},
     "output_type": "execute_result"
    }
   ],
   "source": [
    "df.shape[0]"
   ]
  },
  {
   "cell_type": "code",
   "execution_count": 423,
   "id": "1bce67bf-2edf-43f8-a6a5-29156280d2e5",
   "metadata": {},
   "outputs": [
    {
     "data": {
      "text/plain": [
       "3456"
      ]
     },
     "execution_count": 423,
     "metadata": {},
     "output_type": "execute_result"
    }
   ],
   "source": [
    "df2.shape[0]"
   ]
  },
  {
   "cell_type": "code",
   "execution_count": 424,
   "id": "bff6c91f-94ef-4f18-b2c3-19a17e4b7926",
   "metadata": {},
   "outputs": [
    {
     "name": "stdout",
     "output_type": "stream",
     "text": [
      "Encoded unique values for 'Address' column: [156 117 152 150 106  13 183 100 135 188  71 120 154  99 179  12 163 141\n",
      " 190  52 181 147  61 128   1 111  50 115 122 125  14 113 127  26  40 114\n",
      " 142  21 157 108  35 164 134 184   4  93  39 138  27  23  74  88 158  51\n",
      "  81  76 124 110  19  22 119  24  69  45  62 146 118  29  57  77  60  68\n",
      "  65  36  31 132 189 126 105 176 123  10  43  42   2  63  89 112 166   0\n",
      "  85  67 116  87  91 162  78 160  79 107  41  86   6 161  84  18 191  11\n",
      "  37  44  97 131  75  90 145 185  96 101 172  28  49  48 155   7 170 102\n",
      " 187 109 180  64 104  56 167  20 148  15 174  92 149  34 177 169  32  47\n",
      "  17 137 136 151 182   5 140 121  46  72 129  54  59  94 165   3  38  70\n",
      " 168  80 133 130  58 171  98  55  16 143 153 139  82  66  30  83  25  95\n",
      " 178 159 173  33   9   8  53 175 144 103  73 186]\n"
     ]
    }
   ],
   "source": [
    "# Check the unique values encoded for the 'Address' column\n",
    "print(\"Encoded unique values for 'Address' column:\", df2['Address'].unique())"
   ]
  },
  {
   "cell_type": "code",
   "execution_count": 425,
   "id": "aa82bbde-e545-4a67-951d-e7645974a28a",
   "metadata": {},
   "outputs": [],
   "source": [
    "df2 = df2[df2['Area'] < 2000]\n",
    "df = df[df['Area'] < 2000]"
   ]
  },
  {
   "cell_type": "code",
   "execution_count": 426,
   "id": "27498cdc-ebbe-4e9d-b463-fcd3e766245d",
   "metadata": {},
   "outputs": [
    {
     "data": {
      "text/html": [
       "<div>\n",
       "<style scoped>\n",
       "    .dataframe tbody tr th:only-of-type {\n",
       "        vertical-align: middle;\n",
       "    }\n",
       "\n",
       "    .dataframe tbody tr th {\n",
       "        vertical-align: top;\n",
       "    }\n",
       "\n",
       "    .dataframe thead th {\n",
       "        text-align: right;\n",
       "    }\n",
       "</style>\n",
       "<table border=\"1\" class=\"dataframe\">\n",
       "  <thead>\n",
       "    <tr style=\"text-align: right;\">\n",
       "      <th></th>\n",
       "      <th>Area</th>\n",
       "      <th>Room</th>\n",
       "      <th>Parking</th>\n",
       "      <th>Warehouse</th>\n",
       "      <th>Elevator</th>\n",
       "      <th>Address</th>\n",
       "      <th>Price</th>\n",
       "      <th>Price(USD)</th>\n",
       "    </tr>\n",
       "  </thead>\n",
       "  <tbody>\n",
       "    <tr>\n",
       "      <th>0</th>\n",
       "      <td>63</td>\n",
       "      <td>1</td>\n",
       "      <td>1</td>\n",
       "      <td>1</td>\n",
       "      <td>1</td>\n",
       "      <td>156</td>\n",
       "      <td>1.850000e+09</td>\n",
       "      <td>61666.67</td>\n",
       "    </tr>\n",
       "    <tr>\n",
       "      <th>1</th>\n",
       "      <td>60</td>\n",
       "      <td>1</td>\n",
       "      <td>1</td>\n",
       "      <td>1</td>\n",
       "      <td>1</td>\n",
       "      <td>156</td>\n",
       "      <td>1.850000e+09</td>\n",
       "      <td>61666.67</td>\n",
       "    </tr>\n",
       "    <tr>\n",
       "      <th>2</th>\n",
       "      <td>79</td>\n",
       "      <td>2</td>\n",
       "      <td>1</td>\n",
       "      <td>1</td>\n",
       "      <td>1</td>\n",
       "      <td>117</td>\n",
       "      <td>5.500000e+08</td>\n",
       "      <td>18333.33</td>\n",
       "    </tr>\n",
       "    <tr>\n",
       "      <th>3</th>\n",
       "      <td>95</td>\n",
       "      <td>2</td>\n",
       "      <td>1</td>\n",
       "      <td>1</td>\n",
       "      <td>1</td>\n",
       "      <td>152</td>\n",
       "      <td>9.025000e+08</td>\n",
       "      <td>30083.33</td>\n",
       "    </tr>\n",
       "    <tr>\n",
       "      <th>4</th>\n",
       "      <td>123</td>\n",
       "      <td>2</td>\n",
       "      <td>1</td>\n",
       "      <td>1</td>\n",
       "      <td>1</td>\n",
       "      <td>150</td>\n",
       "      <td>7.000000e+09</td>\n",
       "      <td>233333.33</td>\n",
       "    </tr>\n",
       "    <tr>\n",
       "      <th>5</th>\n",
       "      <td>70</td>\n",
       "      <td>2</td>\n",
       "      <td>1</td>\n",
       "      <td>1</td>\n",
       "      <td>0</td>\n",
       "      <td>106</td>\n",
       "      <td>2.050000e+09</td>\n",
       "      <td>68333.33</td>\n",
       "    </tr>\n",
       "    <tr>\n",
       "      <th>6</th>\n",
       "      <td>87</td>\n",
       "      <td>2</td>\n",
       "      <td>1</td>\n",
       "      <td>1</td>\n",
       "      <td>1</td>\n",
       "      <td>117</td>\n",
       "      <td>6.000000e+08</td>\n",
       "      <td>20000.00</td>\n",
       "    </tr>\n",
       "    <tr>\n",
       "      <th>7</th>\n",
       "      <td>59</td>\n",
       "      <td>1</td>\n",
       "      <td>1</td>\n",
       "      <td>1</td>\n",
       "      <td>1</td>\n",
       "      <td>156</td>\n",
       "      <td>2.150000e+09</td>\n",
       "      <td>71666.67</td>\n",
       "    </tr>\n",
       "    <tr>\n",
       "      <th>8</th>\n",
       "      <td>54</td>\n",
       "      <td>2</td>\n",
       "      <td>1</td>\n",
       "      <td>1</td>\n",
       "      <td>0</td>\n",
       "      <td>13</td>\n",
       "      <td>4.930000e+08</td>\n",
       "      <td>16433.33</td>\n",
       "    </tr>\n",
       "  </tbody>\n",
       "</table>\n",
       "</div>"
      ],
      "text/plain": [
       "   Area  Room  Parking  Warehouse  Elevator  Address         Price  Price(USD)\n",
       "0    63     1        1          1         1      156  1.850000e+09    61666.67\n",
       "1    60     1        1          1         1      156  1.850000e+09    61666.67\n",
       "2    79     2        1          1         1      117  5.500000e+08    18333.33\n",
       "3    95     2        1          1         1      152  9.025000e+08    30083.33\n",
       "4   123     2        1          1         1      150  7.000000e+09   233333.33\n",
       "5    70     2        1          1         0      106  2.050000e+09    68333.33\n",
       "6    87     2        1          1         1      117  6.000000e+08    20000.00\n",
       "7    59     1        1          1         1      156  2.150000e+09    71666.67\n",
       "8    54     2        1          1         0       13  4.930000e+08    16433.33"
      ]
     },
     "execution_count": 426,
     "metadata": {},
     "output_type": "execute_result"
    }
   ],
   "source": [
    "cdf2 = df2[['Area','Room','Parking','Warehouse', 'Elevator','Address', 'Price', 'Price(USD)']]\n",
    "cdf2.head(9)"
   ]
  },
  {
   "cell_type": "code",
   "execution_count": 427,
   "id": "041111c3-4939-47e3-aace-6ac4b2371604",
   "metadata": {},
   "outputs": [
    {
     "data": {
      "image/png": "[encoded data removed]",
      "text/plain": [
       "<Figure size 640x480 with 9 Axes>"
      ]
     },
     "metadata": {},
     "output_type": "display_data"
    }
   ],
   "source": [
    "viz = cdf2[['Area','Room','Parking','Warehouse', 'Elevator','Address', 'Price', 'Price(USD)']]\n",
    "viz.hist()\n",
    "plt.show()"
   ]
  },
  {
   "cell_type": "code",
   "execution_count": 428,
   "id": "9dac349d-e3e3-46dc-bf82-cd95dab77f66",
   "metadata": {},
   "outputs": [
    {
     "data": {
      "text/html": [
       "<div>\n",
       "<style scoped>\n",
       "    .dataframe tbody tr th:only-of-type {\n",
       "        vertical-align: middle;\n",
       "    }\n",
       "\n",
       "    .dataframe tbody tr th {\n",
       "        vertical-align: top;\n",
       "    }\n",
       "\n",
       "    .dataframe thead th {\n",
       "        text-align: right;\n",
       "    }\n",
       "</style>\n",
       "<table border=\"1\" class=\"dataframe\">\n",
       "  <thead>\n",
       "    <tr style=\"text-align: right;\">\n",
       "      <th></th>\n",
       "      <th>Area</th>\n",
       "      <th>Room</th>\n",
       "      <th>Parking</th>\n",
       "      <th>Warehouse</th>\n",
       "      <th>Elevator</th>\n",
       "      <th>Price</th>\n",
       "      <th>Price(USD)</th>\n",
       "    </tr>\n",
       "  </thead>\n",
       "  <tbody>\n",
       "    <tr>\n",
       "      <th>0</th>\n",
       "      <td>63</td>\n",
       "      <td>1</td>\n",
       "      <td>1</td>\n",
       "      <td>1</td>\n",
       "      <td>1</td>\n",
       "      <td>1.850000e+09</td>\n",
       "      <td>61666.67</td>\n",
       "    </tr>\n",
       "    <tr>\n",
       "      <th>1</th>\n",
       "      <td>60</td>\n",
       "      <td>1</td>\n",
       "      <td>1</td>\n",
       "      <td>1</td>\n",
       "      <td>1</td>\n",
       "      <td>1.850000e+09</td>\n",
       "      <td>61666.67</td>\n",
       "    </tr>\n",
       "    <tr>\n",
       "      <th>2</th>\n",
       "      <td>79</td>\n",
       "      <td>2</td>\n",
       "      <td>1</td>\n",
       "      <td>1</td>\n",
       "      <td>1</td>\n",
       "      <td>5.500000e+08</td>\n",
       "      <td>18333.33</td>\n",
       "    </tr>\n",
       "    <tr>\n",
       "      <th>3</th>\n",
       "      <td>95</td>\n",
       "      <td>2</td>\n",
       "      <td>1</td>\n",
       "      <td>1</td>\n",
       "      <td>1</td>\n",
       "      <td>9.025000e+08</td>\n",
       "      <td>30083.33</td>\n",
       "    </tr>\n",
       "    <tr>\n",
       "      <th>4</th>\n",
       "      <td>123</td>\n",
       "      <td>2</td>\n",
       "      <td>1</td>\n",
       "      <td>1</td>\n",
       "      <td>1</td>\n",
       "      <td>7.000000e+09</td>\n",
       "      <td>233333.33</td>\n",
       "    </tr>\n",
       "    <tr>\n",
       "      <th>5</th>\n",
       "      <td>70</td>\n",
       "      <td>2</td>\n",
       "      <td>1</td>\n",
       "      <td>1</td>\n",
       "      <td>0</td>\n",
       "      <td>2.050000e+09</td>\n",
       "      <td>68333.33</td>\n",
       "    </tr>\n",
       "    <tr>\n",
       "      <th>6</th>\n",
       "      <td>87</td>\n",
       "      <td>2</td>\n",
       "      <td>1</td>\n",
       "      <td>1</td>\n",
       "      <td>1</td>\n",
       "      <td>6.000000e+08</td>\n",
       "      <td>20000.00</td>\n",
       "    </tr>\n",
       "    <tr>\n",
       "      <th>7</th>\n",
       "      <td>59</td>\n",
       "      <td>1</td>\n",
       "      <td>1</td>\n",
       "      <td>1</td>\n",
       "      <td>1</td>\n",
       "      <td>2.150000e+09</td>\n",
       "      <td>71666.67</td>\n",
       "    </tr>\n",
       "    <tr>\n",
       "      <th>8</th>\n",
       "      <td>54</td>\n",
       "      <td>2</td>\n",
       "      <td>1</td>\n",
       "      <td>1</td>\n",
       "      <td>0</td>\n",
       "      <td>4.930000e+08</td>\n",
       "      <td>16433.33</td>\n",
       "    </tr>\n",
       "  </tbody>\n",
       "</table>\n",
       "</div>"
      ],
      "text/plain": [
       "   Area  Room  Parking  Warehouse  Elevator         Price  Price(USD)\n",
       "0    63     1        1          1         1  1.850000e+09    61666.67\n",
       "1    60     1        1          1         1  1.850000e+09    61666.67\n",
       "2    79     2        1          1         1  5.500000e+08    18333.33\n",
       "3    95     2        1          1         1  9.025000e+08    30083.33\n",
       "4   123     2        1          1         1  7.000000e+09   233333.33\n",
       "5    70     2        1          1         0  2.050000e+09    68333.33\n",
       "6    87     2        1          1         1  6.000000e+08    20000.00\n",
       "7    59     1        1          1         1  2.150000e+09    71666.67\n",
       "8    54     2        1          1         0  4.930000e+08    16433.33"
      ]
     },
     "execution_count": 428,
     "metadata": {},
     "output_type": "execute_result"
    }
   ],
   "source": [
    "cdf = df[['Area','Room','Parking','Warehouse', 'Elevator', 'Price', 'Price(USD)']]\n",
    "cdf.head(9)"
   ]
  },
  {
   "cell_type": "code",
   "execution_count": 429,
   "id": "9672cdd6-1f3c-44c6-aa9a-d31f94eb1db0",
   "metadata": {},
   "outputs": [
    {
     "data": {
      "image/png": "[encoded data removed]",
      "text/plain": [
       "<Figure size 640x480 with 9 Axes>"
      ]
     },
     "metadata": {},
     "output_type": "display_data"
    }
   ],
   "source": [
    "viz = cdf[['Area','Room','Parking','Warehouse', 'Elevator', 'Price', 'Price(USD)']]\n",
    "viz.hist()\n",
    "plt.show()"
   ]
  },
  {
   "cell_type": "code",
   "execution_count": 430,
   "id": "0974d400-d385-4110-b647-0ad2ca5d1605",
   "metadata": {},
   "outputs": [
    {
     "name": "stdout",
     "output_type": "stream",
     "text": [
      "Correlation between features and target variables:\n",
      "              Price  Price(USD)\n",
      "Area       0.706661    0.706661\n",
      "Room       0.567862    0.567862\n",
      "Parking    0.191240    0.191240\n",
      "Warehouse  0.109691    0.109691\n",
      "Elevator   0.111573    0.111573\n",
      "Address   -0.075962   -0.075962\n"
     ]
    }
   ],
   "source": [
    "# Features and target variables\n",
    "features = ['Area', 'Room', 'Parking', 'Warehouse', 'Elevator', 'Address']\n",
    "target_variables = ['Price', 'Price(USD)']\n",
    "\n",
    "# Calculate the correlation matrix\n",
    "correlation_matrix = cdf2.corr()\n",
    "\n",
    "# Extract correlations of features with target variables\n",
    "feature_target_correlation = correlation_matrix.loc[features, target_variables]\n",
    "\n",
    "# Print the correlation matrix\n",
    "print(\"Correlation between features and target variables:\")\n",
    "print(feature_target_correlation)"
   ]
  },
  {
   "cell_type": "code",
   "execution_count": 431,
   "id": "1a40d2ff-3ec0-4481-9aec-d980f2e4b295",
   "metadata": {},
   "outputs": [
    {
     "data": {
      "image/png": "[encoded data removed]",
      "text/plain": [
       "<Figure size 640x480 with 1 Axes>"
      ]
     },
     "metadata": {},
     "output_type": "display_data"
    }
   ],
   "source": [
    "plt.scatter(cdf['Area'], cdf['Price(USD)'],  color='blue')\n",
    "plt.xlabel(\"Area\")\n",
    "plt.ylabel(\"Price(USD)\")\n",
    "plt.show()"
   ]
  },
  {
   "cell_type": "markdown",
   "id": "a24cde93-66ad-4f0c-8206-08175265cf81",
   "metadata": {},
   "source": [
    "# Simple Regression Model"
   ]
  },
  {
   "cell_type": "code",
   "execution_count": 432,
   "id": "9c4f7855-9084-4eaa-a0e9-75c99f019c8c",
   "metadata": {},
   "outputs": [],
   "source": [
    "import numpy as np\n",
    "msk = np.random.rand(len(df)) < 0.8\n",
    "train = cdf[msk]\n",
    "test = cdf[~msk]"
   ]
  },
  {
   "cell_type": "code",
   "execution_count": 433,
   "id": "2826c995-d345-49b1-ac62-f891242d4f9d",
   "metadata": {},
   "outputs": [
    {
     "data": {
      "image/png": "[encoded data removed]",
      "text/plain": [
       "<Figure size 640x480 with 1 Axes>"
      ]
     },
     "metadata": {},
     "output_type": "display_data"
    }
   ],
   "source": [
    "fig=plt.figure()\n",
    "ax1=fig.add_subplot(111)\n",
    "ax1.scatter(train.Area, train.Price,  color='blue')\n",
    "ax1.scatter(test.Area, test.Price,  color='red')\n",
    "plt.xlabel(\"Area\")\n",
    "plt.ylabel(\"Price\")\n",
    "plt.show()"
   ]
  },
  {
   "cell_type": "code",
   "execution_count": 434,
   "id": "b60f81fe-c5de-4f73-b17e-c1342337cb41",
   "metadata": {},
   "outputs": [
    {
     "name": "stdout",
     "output_type": "stream",
     "text": [
      "Coefficients:  [[92566676.36694883]]\n",
      "Intercept:  [-4.36467885e+09]\n"
     ]
    }
   ],
   "source": [
    "from sklearn import linear_model\n",
    "regr = linear_model.LinearRegression()\n",
    "train_x = np.asanyarray(train[['Area']])\n",
    "train_y = np.asanyarray(train[['Price']])\n",
    "regr.fit (train_x, train_y)\n",
    "# The coefficients\n",
    "print ('Coefficients: ', regr.coef_)\n",
    "print ('Intercept: ',regr.intercept_)"
   ]
  },
  {
   "cell_type": "code",
   "execution_count": 435,
   "id": "9af2d181-e518-4060-99ac-45d6132c6ac2",
   "metadata": {},
   "outputs": [
    {
     "data": {
      "text/plain": [
       "Text(0, 0.5, 'Price')"
      ]
     },
     "execution_count": 435,
     "metadata": {},
     "output_type": "execute_result"
    },
    {
     "data": {
      "image/png": "[encoded data removed]",
      "text/plain": [
       "<Figure size 640x480 with 1 Axes>"
      ]
     },
     "metadata": {},
     "output_type": "display_data"
    }
   ],
   "source": [
    "plt.scatter(train.Area, train.Price,  color='blue')\n",
    "plt.plot(train_x, regr.coef_[0][0]*train_x + regr.intercept_[0], '-r')\n",
    "plt.xlabel(\"Area\")\n",
    "plt.ylabel(\"Price\")"
   ]
  },
  {
   "cell_type": "markdown",
   "id": "95fccb52-7f2a-4f93-8c9f-6a57d7b96219",
   "metadata": {},
   "source": [
    "## Prediction Price(Toman)-Linear Regression with 'Area' as it seems to have higher Correlation"
   ]
  },
  {
   "cell_type": "code",
   "execution_count": 436,
   "id": "77260b93-a323-40b8-b1dd-27c383f276b8",
   "metadata": {},
   "outputs": [
    {
     "name": "stdout",
     "output_type": "stream",
     "text": [
      "Mean absolute error: 2884975685.37\n",
      "Residual sum of squares (MSE): 45123101168928268288.00\n",
      "R2-score: -0.01\n"
     ]
    }
   ],
   "source": [
    "from sklearn.metrics import r2_score\n",
    "\n",
    "test_x = np.asanyarray(test[['Area']])\n",
    "test_y = np.asanyarray(test[['Price']])\n",
    "test_y_ = regr.predict(test_x)\n",
    "\n",
    "print(\"Mean absolute error: %.2f\" % np.mean(np.absolute(test_y_ - test_y)))\n",
    "print(\"Residual sum of squares (MSE): %.2f\" % np.mean((test_y_ - test_y) ** 2))\n",
    "print(\"R2-score: %.2f\" % r2_score(test_y , test_y_) )"
   ]
  },
  {
   "cell_type": "markdown",
   "id": "275ab0fb-abfd-411d-af17-2344f6f51050",
   "metadata": {},
   "source": [
    "# Multiple Linear Regression"
   ]
  },
  {
   "cell_type": "code",
   "execution_count": 437,
   "id": "4e487e32-9e3c-4908-840f-d0f9e136ef96",
   "metadata": {},
   "outputs": [],
   "source": [
    "msk2 = np.random.rand(len(df2)) < 0.8\n",
    "train2 = cdf2[msk2]\n",
    "test2 = cdf2[~msk2]"
   ]
  },
  {
   "cell_type": "markdown",
   "id": "9479f3c6-1ed1-4779-92a9-5c632dc1950e",
   "metadata": {},
   "source": [
    "### Price (USD) Prediction"
   ]
  },
  {
   "cell_type": "code",
   "execution_count": 438,
   "id": "e33c9c44-456c-4642-af9e-b0ba517b2708",
   "metadata": {},
   "outputs": [
    {
     "name": "stdout",
     "output_type": "stream",
     "text": [
      "Coefficients:  [[ 2.25326270e+03  6.28976972e+04 -3.86031528e+03  3.78764138e+04\n",
      "   2.97329145e+04  4.67509615e+01]]\n"
     ]
    }
   ],
   "source": [
    "from sklearn import linear_model\n",
    "regr = linear_model.LinearRegression()\n",
    "x = np.asanyarray(train2[['Area','Room','Parking','Warehouse', 'Elevator','Address']])\n",
    "y = np.asanyarray(train2[['Price(USD)']])\n",
    "regr.fit (x, y)\n",
    "\n",
    "# The coefficients\n",
    "print ('Coefficients: ', regr.coef_)"
   ]
  },
  {
   "cell_type": "code",
   "execution_count": 439,
   "id": "7a3f2101-15c2-4041-b4fa-8392b602bc3c",
   "metadata": {},
   "outputs": [
    {
     "name": "stdout",
     "output_type": "stream",
     "text": [
      "Coefficients:  [[ 2224.52197267 65555.23193227 23426.37948681]]\n",
      "Residual sum of squares: 35162473111.23\n",
      "Variance score: 0.48\n"
     ]
    },
    {
     "name": "stderr",
     "output_type": "stream",
     "text": [
      "D:\\anacon\\envs\\sep_2021\\Lib\\site-packages\\sklearn\\base.py:458: UserWarning: X has feature names, but LinearRegression was fitted without feature names\n",
      "  warnings.warn(\n"
     ]
    }
   ],
   "source": [
    "regr = linear_model.LinearRegression()\n",
    "x = np.asanyarray(train2[['Area','Room','Parking']])\n",
    "y = np.asanyarray(train2[['Price(USD)']])\n",
    "regr.fit (x, y)\n",
    "# The coefficients\n",
    "print ('Coefficients: ', regr.coef_)\n",
    "y_hat= regr.predict(test2[['Area','Room','Parking']])\n",
    "x = np.asanyarray(test2[['Area','Room','Parking']])\n",
    "y = np.asanyarray(test2[['Price(USD)']])\n",
    "print(\"Residual sum of squares: %.2f\"\n",
    "      % np.mean((y_hat - y) ** 2))\n",
    "\n",
    "# Explained variance score: 1 is perfect prediction\n",
    "print('Variance score: %.2f' % regr.score(x, y))"
   ]
  },
  {
   "cell_type": "markdown",
   "id": "5c61c839-5684-41d2-a2d9-33c2629b074f",
   "metadata": {},
   "source": [
    "### Price (Toman) Prediction"
   ]
  },
  {
   "cell_type": "code",
   "execution_count": 412,
   "id": "374d3a1f-23b4-4726-ad3a-71dd5fc54523",
   "metadata": {},
   "outputs": [
    {
     "name": "stdout",
     "output_type": "stream",
     "text": [
      "Coefficients:  [[ 6.69839951e+07  1.82701751e+09 -2.35200372e+08  1.34417069e+09\n",
      "   1.24912137e+09  2.86239553e+06]]\n",
      "Coefficients:  [[6.53702058e+07 1.95928495e+09 8.21776372e+08]]\n",
      "Residual sum of squares: 33009625835787005952.00\n",
      "Variance score: 0.50\n"
     ]
    },
    {
     "name": "stderr",
     "output_type": "stream",
     "text": [
      "D:\\anacon\\envs\\sep_2021\\Lib\\site-packages\\sklearn\\base.py:458: UserWarning: X has feature names, but LinearRegression was fitted without feature names\n",
      "  warnings.warn(\n"
     ]
    }
   ],
   "source": [
    "regr = linear_model.LinearRegression()\n",
    "x = np.asanyarray(train2[['Area','Room','Parking','Warehouse', 'Elevator','Address']])\n",
    "y = np.asanyarray(train2[['Price']])\n",
    "regr.fit (x, y)\n",
    "\n",
    "# The coefficients\n",
    "print ('Coefficients: ', regr.coef_)\n",
    "regr = linear_model.LinearRegression()\n",
    "x = np.asanyarray(train2[['Area','Room','Parking']])\n",
    "y = np.asanyarray(train2[['Price']])\n",
    "regr.fit (x, y)\n",
    "# The coefficients\n",
    "print ('Coefficients: ', regr.coef_)\n",
    "y_hat= regr.predict(test2[['Area','Room','Parking']])\n",
    "x = np.asanyarray(test2[['Area','Room','Parking']])\n",
    "y = np.asanyarray(test2[['Price']])\n",
    "print(\"Residual sum of squares: %.2f\"\n",
    "      % np.mean((y_hat - y) ** 2))\n",
    "\n",
    "# Explained variance score: 1 is perfect prediction\n",
    "print('Variance score: %.2f' % regr.score(x, y))"
   ]
  },
  {
   "cell_type": "code",
   "execution_count": null,
   "id": "13d02d4b-1d77-4215-b2b7-3378b81079c0",
   "metadata": {},
   "outputs": [],
   "source": []
  }
 ],
 "metadata": {
  "kernelspec": {
   "display_name": "Python 3 (ipykernel)",
   "language": "python",
   "name": "python3"
  },
  "language_info": {
   "codemirror_mode": {
    "name": "ipython",
    "version": 3
   },
   "file_extension": ".py",
   "mimetype": "text/x-python",
   "name": "python",
   "nbconvert_exporter": "python",
   "pygments_lexer": "ipython3",
   "version": "3.12.1"
  }
 },
 "nbformat": 4,
 "nbformat_minor": 5
}
